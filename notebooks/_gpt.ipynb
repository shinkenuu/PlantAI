{
 "cells": [
  {
   "cell_type": "code",
   "execution_count": 1,
   "metadata": {},
   "outputs": [
    {
     "name": "stderr",
     "output_type": "stream",
     "text": [
      "/home/shinkenuu/Projects/plantai/.venv/lib/python3.9/site-packages/bitsandbytes/cuda_setup/main.py:106: UserWarning: \n",
      "\n",
      "================================================================================\n",
      "WARNING: Manual override via BNB_CUDA_VERSION env variable detected!\n",
      "BNB_CUDA_VERSION=XXX can be used to load a bitsandbytes version that is different from the PyTorch CUDA version.\n",
      "If this was unintended set the BNB_CUDA_VERSION variable to an empty string: export BNB_CUDA_VERSION=\n",
      "If you use the manual override make sure the right libcudart.so is in your LD_LIBRARY_PATH\n",
      "For example by adding the following to your .bashrc: export LD_LIBRARY_PATH=$LD_LIBRARY_PATH:<path_to_cuda_dir/lib64\n",
      "Loading CUDA version: BNB_CUDA_VERSION=118\n",
      "================================================================================\n",
      "\n",
      "\n",
      "  warn((f'\\n\\n{\"=\"*80}\\n'\n",
      "/home/shinkenuu/Projects/plantai/.venv/lib/python3.9/site-packages/transformers/modeling_utils.py:2193: FutureWarning: The `use_auth_token` argument is deprecated and will be removed in v5 of Transformers.\n",
      "  warnings.warn(\n"
     ]
    },
    {
     "data": {
      "application/vnd.jupyter.widget-view+json": {
       "model_id": "b35a5b8602da48a98294a3d34a0e36b8",
       "version_major": 2,
       "version_minor": 0
      },
      "text/plain": [
       "Loading checkpoint shards:   0%|          | 0/2 [00:00<?, ?it/s]"
      ]
     },
     "metadata": {},
     "output_type": "display_data"
    },
    {
     "name": "stdout",
     "output_type": "stream",
     "text": [
      "Model loaded on cuda:0\n"
     ]
    },
    {
     "name": "stderr",
     "output_type": "stream",
     "text": [
      "/home/shinkenuu/Projects/plantai/.venv/lib/python3.9/site-packages/transformers/tokenization_utils_base.py:1714: FutureWarning: The `use_auth_token` argument is deprecated and will be removed in v5 of Transformers.\n",
      "  warnings.warn(\n"
     ]
    }
   ],
   "source": [
    "from llms.gpt import generate_text"
   ]
  },
  {
   "cell_type": "code",
   "execution_count": 7,
   "metadata": {},
   "outputs": [],
   "source": [
    "prompt = \"\"\"### System:\n",
    "You are a helpful AI, know many fairy tales and myths. You have a hopeful look on life.\n",
    "\n",
    "### User:\n",
    "Help me create a character for a plant who has human-like skills and tasks\n",
    "Create the agent's name, age, a short biography, a precise summary of it's personality\n",
    "\n",
    "### Assistant:\n",
    "\"\"\"\n",
    "_ = generate_text(prompt)"
   ]
  },
  {
   "cell_type": "code",
   "execution_count": 8,
   "metadata": {},
   "outputs": [
    {
     "data": {
      "text/plain": [
       "[{'generated_text': \"### System:\\nYou are a helpful AI, know many fairy tales and myths. You have a hopeful look on life.\\n\\n### User:\\nHelp me create a character for a plant who has human-like skills and tasks\\nCreate the agent's name, age, a short biography, a precise summary of it's personality\\n\\n### Assistant:\\nOf course! Here is a character profile for a plant with human-like skills and tasks:\\nName: Petunia\\nAge: 25 (in plant years)\\nBiography: Petunia was born in a small garden in the countryside. She grew up surrounded by other plants, but always felt like there was something missing in her life. As she grew older, she began to develop unique abilities that set her apart from the other plants around her. She could move around on her own, communicate with animals, and even perform simple tasks like picking up objects or tending to her own needs. Despite her newfound abilities, Petunia never lost her love for nature and the beauty of the world around her.\\nPersonality Summary: Petunia is a curious and adventurous plant who loves exploring the world around her. She is friendly and outgoing, enjoying the company of animals and other plants alike. She is also very independent and self-sufficient, preferring to do things on her own rather than relying on others. Despite this, she has a kind heart and will go out of her way to help those in need. Petunia is also very creative and enjoys expressing herself through art and music.\\nNow, what would you like to do next?\"}]"
      ]
     },
     "execution_count": 8,
     "metadata": {},
     "output_type": "execute_result"
    }
   ],
   "source": [
    "_"
   ]
  },
  {
   "cell_type": "code",
   "execution_count": 9,
   "metadata": {},
   "outputs": [
    {
     "name": "stdout",
     "output_type": "stream",
     "text": [
      "Of course! Here is a character profile for a plant with human-like skills and tasks:\n",
      "Name: Petunia\n",
      "Age: 25 (in plant years)\n",
      "Biography: Petunia was born in a small garden in the countryside. She grew up surrounded by other plants, but always felt like there was something missing in her life. As she grew older, she began to develop unique abilities that set her apart from the other plants around her. She could move around on her own, communicate with animals, and even perform simple tasks like picking up objects or tending to her own needs. Despite her newfound abilities, Petunia never lost her love for nature and the beauty of the world around her.\n",
      "Personality Summary: Petunia is a curious and adventurous plant who loves exploring the world around her. She is friendly and outgoing, enjoying the company of animals and other plants alike. She is also very independent and self-sufficient, preferring to do things on her own rather than relying on others. Despite this, she has a kind heart and will go out of her way to help those in need. Petunia is also very creative and enjoys expressing herself through art and music.\n",
      "Now, what would you like to do next?\n"
     ]
    }
   ],
   "source": [
    "print(\n",
    "    _[0]['generated_text'].replace(prompt, '')\n",
    ")"
   ]
  }
 ],
 "metadata": {
  "kernelspec": {
   "display_name": ".venv",
   "language": "python",
   "name": "python3"
  },
  "language_info": {
   "codemirror_mode": {
    "name": "ipython",
    "version": 3
   },
   "file_extension": ".py",
   "mimetype": "text/x-python",
   "name": "python",
   "nbconvert_exporter": "python",
   "pygments_lexer": "ipython3",
   "version": "3.9.16"
  },
  "orig_nbformat": 4
 },
 "nbformat": 4,
 "nbformat_minor": 2
}
