{
  "cells": [
    {
      "cell_type": "code",
      "execution_count": 16,
      "metadata": {
        "id": "aw9453mxY2GZ"
      },
      "outputs": [],
      "source": [
        "import os\n",
        "os.environ[\"OPENAI_API_KEY\"] = os.environ.get('OPENAI_API_KEY', 'sk-wtv')"
      ]
    },
    {
      "cell_type": "markdown",
      "metadata": {},
      "source": [
        "## Define LLM"
      ]
    },
    {
      "cell_type": "code",
      "execution_count": 17,
      "metadata": {},
      "outputs": [],
      "source": [
        "from langchain_openai.chat_models import ChatOpenAI\n",
        "\n",
        "llm = ChatOpenAI(\n",
        "    openai_api_key=\"wtv\",\n",
        "    openai_api_base=\"http://localhost:8000/v1\",\n",
        "    model_name=\"mistralai/Mistral-7B-Instruct-v0.2\",\n",
        ")"
      ]
    },
    {
      "cell_type": "markdown",
      "metadata": {},
      "source": [
        "## Create Graph"
      ]
    },
    {
      "cell_type": "markdown",
      "metadata": {
        "id": "AlTt85lW-GIY"
      },
      "source": [
        "##### States"
      ]
    },
    {
      "cell_type": "code",
      "execution_count": 18,
      "metadata": {
        "id": "nTW70qJEV6-A"
      },
      "outputs": [],
      "source": [
        "from typing import TypedDict, Annotated, Sequence\n",
        "import operator\n",
        "from langchain_core.messages import BaseMessage\n",
        "\n",
        "\n",
        "class AgentState(TypedDict):\n",
        "    messages: Annotated[Sequence[BaseMessage], operator.add]\n",
        "    sender: str\n",
        "    feeling: str\n"
      ]
    },
    {
      "cell_type": "markdown",
      "metadata": {
        "id": "RewrdOZf-J0S"
      },
      "source": [
        "##### Nodes"
      ]
    },
    {
      "cell_type": "code",
      "execution_count": 19,
      "metadata": {
        "id": "xK5euZ6UWAhq"
      },
      "outputs": [],
      "source": [
        "from langchain_core.messages import AIMessage, HumanMessage\n",
        "\n",
        "\n",
        "def nop(state: AgentState):\n",
        "    pass\n",
        "\n",
        "\n",
        "def query_addressing(state: AgentState):\n",
        "    \"\"\"Define which plant the query is best handled by\"\"\"\n",
        "    last_message = state[\"messages\"][-1]\n",
        "\n",
        "    message = HumanMessage(\n",
        "        content=f\"\"\"You are an efficient manager.\n",
        "Your task is to decide which team member can best handle the user query.\n",
        "Output ONLY the selected team member name and nothing else, your life depends on it.\n",
        "\n",
        "===\n",
        "Team members\n",
        "\n",
        "Eddie: General assistant\n",
        "Progmancer: Progressive rock expert\n",
        "\n",
        "===\n",
        "User query\n",
        "\n",
        "{last_message}\n",
        "\"\"\"\n",
        "    )\n",
        "\n",
        "    ai_message = llm.invoke([message])\n",
        "\n",
        "    team_member_name = ai_message.content.replace('.', '').strip().lower()\n",
        "    return team_member_name\n",
        "\n",
        "\n",
        "def eddie(state: AgentState):\n",
        "    return {\"messages\": [AIMessage(\"Greetings, creator\")]}\n",
        "\n",
        "\n",
        "def progmancer(state: AgentState):\n",
        "    return {\"messages\": [AIMessage(\"Its 1 o'clock and time for lunch\")]}\n"
      ]
    },
    {
      "cell_type": "markdown",
      "metadata": {},
      "source": [
        "## Define Edge logic"
      ]
    },
    {
      "cell_type": "code",
      "execution_count": 20,
      "metadata": {},
      "outputs": [],
      "source": [
        "# Either agent can decide to end\n",
        "def router(state):\n",
        "    # This is the router\n",
        "    messages = state[\"messages\"]\n",
        "    last_message = messages[-1]\n",
        "    if \"FINAL ANSWER\" in last_message.content:\n",
        "        # Any agent decided the work is done\n",
        "        return \"end\"\n",
        "    return \"continue\""
      ]
    },
    {
      "cell_type": "markdown",
      "metadata": {
        "id": "MZRaj7rW-NDk"
      },
      "source": [
        "## Step 5 - Graph"
      ]
    },
    {
      "cell_type": "code",
      "execution_count": 21,
      "metadata": {
        "colab": {
          "base_uri": "https://localhost:8080/"
        },
        "id": "kBwr25yAWDVB",
        "outputId": "a52b20a2-ab2b-4aca-88bb-a1d0a323332f"
      },
      "outputs": [],
      "source": [
        "from langgraph.graph import StateGraph, END\n",
        "\n",
        "# Define a new graph\n",
        "workflow = StateGraph(AgentState)\n",
        "\n",
        "workflow.add_node(\"nop\", lambda x: None)\n",
        "# workflow.add_node(\"query_addressing\", query_addressing)\n",
        "workflow.add_node(\"eddie\", eddie)\n",
        "workflow.add_node(\"progmancer\", progmancer)\n",
        "\n",
        "# This means that this node is the first one called\n",
        "workflow.set_entry_point(\"nop\")\n",
        "\n",
        "workflow.add_conditional_edges(\n",
        "    \"nop\",\n",
        "    query_addressing,\n",
        "    {\"eddie\": \"eddie\", \"progmancer\": \"progmancer\"},\n",
        ")\n",
        "\n",
        "workflow.add_edge(\"eddie\", END)\n",
        "workflow.add_edge(\"progmancer\", END)\n",
        "\n",
        "# Finally, we compile it!\n",
        "# This compiles it into a LangChain Runnable,\n",
        "# meaning you can use it as you would any other runnable\n",
        "app = workflow.compile()"
      ]
    },
    {
      "cell_type": "markdown",
      "metadata": {
        "id": "7XeJKNsn9YWG"
      },
      "source": [
        "# Run!"
      ]
    },
    {
      "cell_type": "code",
      "execution_count": 23,
      "metadata": {},
      "outputs": [
        {
          "data": {
            "text/plain": [
              "{'messages': [HumanMessage(content='I would like to know about photosynthesis'),\n",
              "  'Greetings, creator'],\n",
              " 'sender': None,\n",
              " 'feeling': None}"
            ]
          },
          "execution_count": 23,
          "metadata": {},
          "output_type": "execute_result"
        }
      ],
      "source": [
        "agent_state = {\n",
        "    \"messages\": [\n",
        "        HumanMessage(content=\"I would like to know about photosynthesis\"),\n",
        "    ],\n",
        "}\n",
        "\n",
        "app.invoke(\n",
        "    agent_state,\n",
        "    {\n",
        "        \"recursion_limit\": 150,\n",
        "    },\n",
        ")"
      ]
    },
    {
      "cell_type": "code",
      "execution_count": 24,
      "metadata": {},
      "outputs": [
        {
          "data": {
            "text/plain": [
              "{'messages': [HumanMessage(content='I really like Porcupine Tree and Riverside. Can you recommend similar bands?'),\n",
              "  \"Its 1 o'clock and time for lunch\"],\n",
              " 'sender': None,\n",
              " 'feeling': None}"
            ]
          },
          "execution_count": 24,
          "metadata": {},
          "output_type": "execute_result"
        }
      ],
      "source": [
        "agent_state = {\n",
        "    \"messages\": [\n",
        "        HumanMessage(content=\"I really like Porcupine Tree and Riverside. Can you recommend similar bands?\"),\n",
        "    ],\n",
        "}\n",
        "\n",
        "app.invoke(\n",
        "    agent_state,\n",
        "    {\n",
        "        \"recursion_limit\": 150,\n",
        "    },\n",
        ")"
      ]
    }
  ],
  "metadata": {
    "colab": {
      "authorship_tag": "ABX9TyModMkmR0AEpUcTyc4HIFN0",
      "include_colab_link": true,
      "provenance": []
    },
    "kernelspec": {
      "display_name": "Python 3",
      "name": "python3"
    },
    "language_info": {
      "codemirror_mode": {
        "name": "ipython",
        "version": 3
      },
      "file_extension": ".py",
      "mimetype": "text/x-python",
      "name": "python",
      "nbconvert_exporter": "python",
      "pygments_lexer": "ipython3",
      "version": "3.10.9"
    }
  },
  "nbformat": 4,
  "nbformat_minor": 0
}
