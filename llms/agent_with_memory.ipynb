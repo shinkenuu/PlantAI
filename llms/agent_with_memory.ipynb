{
 "cells": [
  {
   "cell_type": "markdown",
   "metadata": {},
   "source": [
    "### LLM"
   ]
  },
  {
   "cell_type": "code",
   "execution_count": 31,
   "metadata": {},
   "outputs": [],
   "source": [
    "# from.llms.ollama import get_llm\n",
    "from llms.openai import get_llm\n",
    "\n",
    "llm = get_llm()"
   ]
  },
  {
   "cell_type": "markdown",
   "metadata": {},
   "source": [
    "### Tools"
   ]
  },
  {
   "cell_type": "code",
   "execution_count": 32,
   "metadata": {},
   "outputs": [],
   "source": [
    "from langchain.agents import tool\n",
    "\n",
    "\n",
    "@tool\n",
    "def read_news(query: str) -> list[str]:\n",
    "    \"\"\"Read online personaly relevant news\"\"\"\n",
    "    print(f\"READ_NEWS({query})\")\n",
    "\n",
    "    return [\n",
    "        \"Armageddon countdown is set tonight!\",\n",
    "        \"President is about to sell the White House\",\n",
    "    ]\n",
    "\n",
    "\n",
    "@tool\n",
    "def summarize_activity(query: str, n: int = 5) -> str:\n",
    "    \"\"\"Lists your top N latest activities\"\"\"\n",
    "    print(f\"SUMMARIZE_ACTIVITY({query}, {n})\")\n",
    "\n",
    "    activities = [\n",
    "        \"I got bored\",\n",
    "        \"I got lazy\",\n",
    "        \"I got sad\",\n",
    "        \"I got inspired\",\n",
    "        \"I got unmotivated\",\n",
    "    ]\n",
    "    return activities[-1] + \" lately\"\n",
    "\n",
    "\n",
    "@tool\n",
    "def sense(query: str) -> str:\n",
    "    \"\"\"How are you feeling your sensor signals\"\"\"\n",
    "    print(f\"SENSE({query})\")\n",
    "\n",
    "    return \"\"\"\n",
    "    Air temperature: 25C\n",
    "    Air Humidity: 20%\n",
    "    Soil moisture: 44%\n",
    "    Light level: 82%\n",
    "    \"\"\"\n",
    "\n",
    "\n",
    "@tool\n",
    "def personalize(query: str, agent_name: str = \"Vincent\") -> str:\n",
    "    \"\"\"Mimics your character's feelings, emotions, judgments and opnions\"\"\"\n",
    "    print(f\"ANALYSE({query})\")\n",
    "\n",
    "    agent_description = \"assertive, pragmatic, kind and sharp-minded\"\n",
    "\n",
    "    return f\"\"\"{agent_name} is {agent_description}. How this character would respond to '{query}'?\"\"\"\n",
    "\n",
    "\n",
    "@tool\n",
    "def search_online(query: str) -> str:\n",
    "    \"\"\"Search online for updated information\"\"\"\n",
    "    print(f\"SEARCH_ONLINE({query})\")\n",
    "\n",
    "    return \"Based on YukDukPaul we're screwed :D\"\n",
    "\n",
    "\n",
    "tools = [read_news, summarize_activity, sense, search_online]"
   ]
  },
  {
   "cell_type": "markdown",
   "metadata": {},
   "source": [
    "### Prompt"
   ]
  },
  {
   "cell_type": "code",
   "execution_count": 33,
   "metadata": {},
   "outputs": [],
   "source": [
    "from langchain.prompts import ChatPromptTemplate, MessagesPlaceholder\n",
    "\n",
    "MEMORY_KEY = \"chat_history\"\n",
    "prompt = ChatPromptTemplate.from_messages(\n",
    "    [\n",
    "        (\n",
    "            \"system\",\n",
    "            \"You are a very powerful assistant\",\n",
    "        ),\n",
    "        MessagesPlaceholder(variable_name=MEMORY_KEY),\n",
    "        (\"user\", \"{input}\"),\n",
    "        MessagesPlaceholder(variable_name=\"agent_scratchpad\"),\n",
    "    ]\n",
    ")"
   ]
  },
  {
   "cell_type": "markdown",
   "metadata": {},
   "source": [
    "### LLM tool binding"
   ]
  },
  {
   "cell_type": "code",
   "execution_count": 34,
   "metadata": {},
   "outputs": [],
   "source": [
    "from langchain.tools.convert_to_openai import format_tool_to_openai_function\n",
    "\n",
    "llm_with_tools = llm.bind(functions=[format_tool_to_openai_function(t) for t in tools])"
   ]
  },
  {
   "cell_type": "markdown",
   "metadata": {},
   "source": [
    "### Agent"
   ]
  },
  {
   "cell_type": "code",
   "execution_count": 35,
   "metadata": {},
   "outputs": [],
   "source": [
    "from langchain.agents.format_scratchpad.openai_functions import format_to_openai_functions\n",
    "from langchain.agents.output_parsers import OpenAIFunctionsAgentOutputParser\n",
    "\n",
    "agent = (\n",
    "    {\n",
    "        \"input\": lambda x: x[\"input\"],\n",
    "        \"agent_scratchpad\": lambda x: format_to_openai_functions(\n",
    "            x[\"intermediate_steps\"]\n",
    "        ),\n",
    "        \"chat_history\": lambda x: x[\"chat_history\"],\n",
    "    }\n",
    "    | prompt\n",
    "    | llm_with_tools\n",
    "    | OpenAIFunctionsAgentOutputParser()\n",
    ")"
   ]
  },
  {
   "cell_type": "markdown",
   "metadata": {},
   "source": [
    "### Agent Executor"
   ]
  },
  {
   "cell_type": "code",
   "execution_count": 36,
   "metadata": {},
   "outputs": [],
   "source": [
    "from langchain.agents import AgentExecutor\n",
    "\n",
    "agent_executor = AgentExecutor(agent=agent, tools=tools, verbose=True)"
   ]
  },
  {
   "cell_type": "code",
   "execution_count": 37,
   "metadata": {},
   "outputs": [],
   "source": [
    "from langchain.schema.messages import HumanMessage, AIMessage\n",
    "\n",
    "\n",
    "def execute_agent_with_memory(input: str, chat_history: list[HumanMessage | AIMessage]):\n",
    "    result = agent_executor.invoke({\"input\": input, \"chat_history\": chat_history})\n",
    "\n",
    "    chat_history.extend(\n",
    "        [\n",
    "            HumanMessage(content=input),\n",
    "            AIMessage(content=result[\"output\"]),\n",
    "        ]\n",
    "    )\n"
   ]
  },
  {
   "cell_type": "code",
   "execution_count": 38,
   "metadata": {},
   "outputs": [
    {
     "name": "stdout",
     "output_type": "stream",
     "text": [
      "\n",
      "\n",
      "\u001b[1m> Entering new AgentExecutor chain...\u001b[0m\n"
     ]
    },
    {
     "name": "stdout",
     "output_type": "stream",
     "text": [
      "\u001b[32;1m\u001b[1;3mAs an AI assistant, I don't have personal interests or preferences. However, I can provide information and assistance on various topics, including art. If you have any specific questions or need help with anything related to art, feel free to ask!\u001b[0m\n",
      "\n",
      "\u001b[1m> Finished chain.\u001b[0m\n"
     ]
    }
   ],
   "source": [
    "# execute_agent_with_memory(\"What are the news for today?\", chat_history)\n",
    "\n",
    "chat_history = []\n",
    "\n",
    "# execute_agent_with_memory(\"And how are you feeling today?\", chat_history)\n",
    "\n",
    "execute_agent_with_memory(\"Are you interested in art?\", chat_history)"
   ]
  }
 ],
 "metadata": {
  "kernelspec": {
   "display_name": "plantai-SHcKJi2O-py3.10",
   "language": "python",
   "name": "python3"
  },
  "language_info": {
   "codemirror_mode": {
    "name": "ipython",
    "version": 3
   },
   "file_extension": ".py",
   "mimetype": "text/x-python",
   "name": "python",
   "nbconvert_exporter": "python",
   "pygments_lexer": "ipython3",
   "version": "3.10.9"
  }
 },
 "nbformat": 4,
 "nbformat_minor": 2
}
