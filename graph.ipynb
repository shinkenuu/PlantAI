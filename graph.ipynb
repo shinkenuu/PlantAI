{
  "cells": [
    {
      "cell_type": "markdown",
      "metadata": {
        "colab_type": "text",
        "id": "view-in-github"
      },
      "source": [
        "<a href=\"https://colab.research.google.com/gist/virattt/ba0b660cdcaf4161ca1e6e5d8b5de4f8/langgraph-financial-agent.ipynb\" target=\"_parent\"><img src=\"https://colab.research.google.com/assets/colab-badge.svg\" alt=\"Open In Colab\"/></a>"
      ]
    },
    {
      "cell_type": "markdown",
      "metadata": {
        "id": "9gfXnsep-Wuk"
      },
      "source": [
        "This notebook includes my code for creating a financial agent using [LangGraph](https://github.com/langchain-ai/langgraph).\n",
        "\n",
        "The agent has two tools:\n",
        "\n",
        "1. Extract a ticker from a user query.\n",
        "2. Given a ticker, get its latest price using [Polygon](https://polygon.io/).\n",
        "\n",
        "You will need two things to run the code:\n",
        "\n",
        "1. OpenAI API key ([link](https://platform.openai.com/account/api-keys))\n",
        "2. Polygon API key ([link](https://polygon.io/))\n",
        "\n",
        "I've tried to make the code as easy as possible to read and run.  If you have any questions, please feel free to message me on [X](https://twitter.com/virattt)!"
      ]
    },
    {
      "cell_type": "markdown",
      "metadata": {
        "id": "UpH-efxS-TAS"
      },
      "source": [
        "## Step 0 - Install dependencies"
      ]
    },
    {
      "cell_type": "code",
      "execution_count": 1,
      "metadata": {
        "id": "GcvSoNAmVbXH"
      },
      "outputs": [
        {
          "name": "stdout",
          "output_type": "stream",
          "text": [
            "Requirement already satisfied: langgraph in /home/shinkenuu/.cache/pypoetry/virtualenvs/plantai-SHcKJi2O-py3.10/lib/python3.10/site-packages (0.0.20)\n",
            "Requirement already satisfied: langchain-core<0.2.0,>=0.1.8 in /home/shinkenuu/.cache/pypoetry/virtualenvs/plantai-SHcKJi2O-py3.10/lib/python3.10/site-packages (from langgraph) (0.1.16)\n",
            "Requirement already satisfied: PyYAML>=5.3 in /home/shinkenuu/.cache/pypoetry/virtualenvs/plantai-SHcKJi2O-py3.10/lib/python3.10/site-packages (from langchain-core<0.2.0,>=0.1.8->langgraph) (6.0.1)\n",
            "Requirement already satisfied: anyio<5,>=3 in /home/shinkenuu/.cache/pypoetry/virtualenvs/plantai-SHcKJi2O-py3.10/lib/python3.10/site-packages (from langchain-core<0.2.0,>=0.1.8->langgraph) (3.7.1)\n",
            "Requirement already satisfied: jsonpatch<2.0,>=1.33 in /home/shinkenuu/.cache/pypoetry/virtualenvs/plantai-SHcKJi2O-py3.10/lib/python3.10/site-packages (from langchain-core<0.2.0,>=0.1.8->langgraph) (1.33)\n",
            "Requirement already satisfied: langsmith<0.1,>=0.0.83 in /home/shinkenuu/.cache/pypoetry/virtualenvs/plantai-SHcKJi2O-py3.10/lib/python3.10/site-packages (from langchain-core<0.2.0,>=0.1.8->langgraph) (0.0.83)\n",
            "Requirement already satisfied: packaging<24.0,>=23.2 in /home/shinkenuu/.cache/pypoetry/virtualenvs/plantai-SHcKJi2O-py3.10/lib/python3.10/site-packages (from langchain-core<0.2.0,>=0.1.8->langgraph) (23.2)\n",
            "Requirement already satisfied: pydantic<3,>=1 in /home/shinkenuu/.cache/pypoetry/virtualenvs/plantai-SHcKJi2O-py3.10/lib/python3.10/site-packages (from langchain-core<0.2.0,>=0.1.8->langgraph) (2.5.3)\n",
            "Requirement already satisfied: requests<3,>=2 in /home/shinkenuu/.cache/pypoetry/virtualenvs/plantai-SHcKJi2O-py3.10/lib/python3.10/site-packages (from langchain-core<0.2.0,>=0.1.8->langgraph) (2.31.0)\n",
            "Requirement already satisfied: tenacity<9.0.0,>=8.1.0 in /home/shinkenuu/.cache/pypoetry/virtualenvs/plantai-SHcKJi2O-py3.10/lib/python3.10/site-packages (from langchain-core<0.2.0,>=0.1.8->langgraph) (8.2.3)\n",
            "Requirement already satisfied: idna>=2.8 in /home/shinkenuu/.cache/pypoetry/virtualenvs/plantai-SHcKJi2O-py3.10/lib/python3.10/site-packages (from anyio<5,>=3->langchain-core<0.2.0,>=0.1.8->langgraph) (3.6)\n",
            "Requirement already satisfied: sniffio>=1.1 in /home/shinkenuu/.cache/pypoetry/virtualenvs/plantai-SHcKJi2O-py3.10/lib/python3.10/site-packages (from anyio<5,>=3->langchain-core<0.2.0,>=0.1.8->langgraph) (1.3.0)\n",
            "Requirement already satisfied: exceptiongroup in /home/shinkenuu/.cache/pypoetry/virtualenvs/plantai-SHcKJi2O-py3.10/lib/python3.10/site-packages (from anyio<5,>=3->langchain-core<0.2.0,>=0.1.8->langgraph) (1.2.0)\n",
            "Requirement already satisfied: jsonpointer>=1.9 in /home/shinkenuu/.cache/pypoetry/virtualenvs/plantai-SHcKJi2O-py3.10/lib/python3.10/site-packages (from jsonpatch<2.0,>=1.33->langchain-core<0.2.0,>=0.1.8->langgraph) (2.4)\n",
            "Requirement already satisfied: annotated-types>=0.4.0 in /home/shinkenuu/.cache/pypoetry/virtualenvs/plantai-SHcKJi2O-py3.10/lib/python3.10/site-packages (from pydantic<3,>=1->langchain-core<0.2.0,>=0.1.8->langgraph) (0.6.0)\n",
            "Requirement already satisfied: pydantic-core==2.14.6 in /home/shinkenuu/.cache/pypoetry/virtualenvs/plantai-SHcKJi2O-py3.10/lib/python3.10/site-packages (from pydantic<3,>=1->langchain-core<0.2.0,>=0.1.8->langgraph) (2.14.6)\n",
            "Requirement already satisfied: typing-extensions>=4.6.1 in /home/shinkenuu/.cache/pypoetry/virtualenvs/plantai-SHcKJi2O-py3.10/lib/python3.10/site-packages (from pydantic<3,>=1->langchain-core<0.2.0,>=0.1.8->langgraph) (4.9.0)\n",
            "Requirement already satisfied: charset-normalizer<4,>=2 in /home/shinkenuu/.cache/pypoetry/virtualenvs/plantai-SHcKJi2O-py3.10/lib/python3.10/site-packages (from requests<3,>=2->langchain-core<0.2.0,>=0.1.8->langgraph) (3.3.2)\n",
            "Requirement already satisfied: urllib3<3,>=1.21.1 in /home/shinkenuu/.cache/pypoetry/virtualenvs/plantai-SHcKJi2O-py3.10/lib/python3.10/site-packages (from requests<3,>=2->langchain-core<0.2.0,>=0.1.8->langgraph) (1.26.18)\n",
            "Requirement already satisfied: certifi>=2017.4.17 in /home/shinkenuu/.cache/pypoetry/virtualenvs/plantai-SHcKJi2O-py3.10/lib/python3.10/site-packages (from requests<3,>=2->langchain-core<0.2.0,>=0.1.8->langgraph) (2023.11.17)\n",
            "\n",
            "\u001b[1m[\u001b[0m\u001b[34;49mnotice\u001b[0m\u001b[1;39;49m]\u001b[0m\u001b[39;49m A new release of pip is available: \u001b[0m\u001b[31;49m23.2.1\u001b[0m\u001b[39;49m -> \u001b[0m\u001b[32;49m23.3.2\u001b[0m\n",
            "\u001b[1m[\u001b[0m\u001b[34;49mnotice\u001b[0m\u001b[1;39;49m]\u001b[0m\u001b[39;49m To update, run: \u001b[0m\u001b[32;49mpip install --upgrade pip\u001b[0m\n",
            "Requirement already satisfied: langchain in /home/shinkenuu/.cache/pypoetry/virtualenvs/plantai-SHcKJi2O-py3.10/lib/python3.10/site-packages (0.1.4)\n",
            "Requirement already satisfied: langchain_openai in /home/shinkenuu/.cache/pypoetry/virtualenvs/plantai-SHcKJi2O-py3.10/lib/python3.10/site-packages (0.0.5)\n",
            "Requirement already satisfied: langchainhub in /home/shinkenuu/.cache/pypoetry/virtualenvs/plantai-SHcKJi2O-py3.10/lib/python3.10/site-packages (0.1.14)\n",
            "Requirement already satisfied: PyYAML>=5.3 in /home/shinkenuu/.cache/pypoetry/virtualenvs/plantai-SHcKJi2O-py3.10/lib/python3.10/site-packages (from langchain) (6.0.1)\n",
            "Requirement already satisfied: SQLAlchemy<3,>=1.4 in /home/shinkenuu/.cache/pypoetry/virtualenvs/plantai-SHcKJi2O-py3.10/lib/python3.10/site-packages (from langchain) (2.0.25)\n",
            "Requirement already satisfied: aiohttp<4.0.0,>=3.8.3 in /home/shinkenuu/.cache/pypoetry/virtualenvs/plantai-SHcKJi2O-py3.10/lib/python3.10/site-packages (from langchain) (3.9.1)\n",
            "Requirement already satisfied: async-timeout<5.0.0,>=4.0.0 in /home/shinkenuu/.cache/pypoetry/virtualenvs/plantai-SHcKJi2O-py3.10/lib/python3.10/site-packages (from langchain) (4.0.3)\n",
            "Requirement already satisfied: dataclasses-json<0.7,>=0.5.7 in /home/shinkenuu/.cache/pypoetry/virtualenvs/plantai-SHcKJi2O-py3.10/lib/python3.10/site-packages (from langchain) (0.5.14)\n",
            "Requirement already satisfied: jsonpatch<2.0,>=1.33 in /home/shinkenuu/.cache/pypoetry/virtualenvs/plantai-SHcKJi2O-py3.10/lib/python3.10/site-packages (from langchain) (1.33)\n",
            "Requirement already satisfied: langchain-community<0.1,>=0.0.14 in /home/shinkenuu/.cache/pypoetry/virtualenvs/plantai-SHcKJi2O-py3.10/lib/python3.10/site-packages (from langchain) (0.0.16)\n",
            "Requirement already satisfied: langchain-core<0.2,>=0.1.16 in /home/shinkenuu/.cache/pypoetry/virtualenvs/plantai-SHcKJi2O-py3.10/lib/python3.10/site-packages (from langchain) (0.1.16)\n",
            "Requirement already satisfied: langsmith<0.1,>=0.0.83 in /home/shinkenuu/.cache/pypoetry/virtualenvs/plantai-SHcKJi2O-py3.10/lib/python3.10/site-packages (from langchain) (0.0.83)\n",
            "Requirement already satisfied: numpy<2,>=1 in /home/shinkenuu/.cache/pypoetry/virtualenvs/plantai-SHcKJi2O-py3.10/lib/python3.10/site-packages (from langchain) (1.26.3)\n",
            "Requirement already satisfied: pydantic<3,>=1 in /home/shinkenuu/.cache/pypoetry/virtualenvs/plantai-SHcKJi2O-py3.10/lib/python3.10/site-packages (from langchain) (2.5.3)\n",
            "Requirement already satisfied: requests<3,>=2 in /home/shinkenuu/.cache/pypoetry/virtualenvs/plantai-SHcKJi2O-py3.10/lib/python3.10/site-packages (from langchain) (2.31.0)\n",
            "Requirement already satisfied: tenacity<9.0.0,>=8.1.0 in /home/shinkenuu/.cache/pypoetry/virtualenvs/plantai-SHcKJi2O-py3.10/lib/python3.10/site-packages (from langchain) (8.2.3)\n",
            "Requirement already satisfied: openai<2.0.0,>=1.10.0 in /home/shinkenuu/.cache/pypoetry/virtualenvs/plantai-SHcKJi2O-py3.10/lib/python3.10/site-packages (from langchain_openai) (1.10.0)\n",
            "Requirement already satisfied: tiktoken<0.6.0,>=0.5.2 in /home/shinkenuu/.cache/pypoetry/virtualenvs/plantai-SHcKJi2O-py3.10/lib/python3.10/site-packages (from langchain_openai) (0.5.2)\n",
            "Requirement already satisfied: types-requests<3.0.0.0,>=2.31.0.2 in /home/shinkenuu/.cache/pypoetry/virtualenvs/plantai-SHcKJi2O-py3.10/lib/python3.10/site-packages (from langchainhub) (2.31.0.20240125)\n",
            "Requirement already satisfied: attrs>=17.3.0 in /home/shinkenuu/.cache/pypoetry/virtualenvs/plantai-SHcKJi2O-py3.10/lib/python3.10/site-packages (from aiohttp<4.0.0,>=3.8.3->langchain) (23.2.0)\n",
            "Requirement already satisfied: multidict<7.0,>=4.5 in /home/shinkenuu/.cache/pypoetry/virtualenvs/plantai-SHcKJi2O-py3.10/lib/python3.10/site-packages (from aiohttp<4.0.0,>=3.8.3->langchain) (6.0.4)\n",
            "Requirement already satisfied: yarl<2.0,>=1.0 in /home/shinkenuu/.cache/pypoetry/virtualenvs/plantai-SHcKJi2O-py3.10/lib/python3.10/site-packages (from aiohttp<4.0.0,>=3.8.3->langchain) (1.9.4)\n",
            "Requirement already satisfied: frozenlist>=1.1.1 in /home/shinkenuu/.cache/pypoetry/virtualenvs/plantai-SHcKJi2O-py3.10/lib/python3.10/site-packages (from aiohttp<4.0.0,>=3.8.3->langchain) (1.4.1)\n",
            "Requirement already satisfied: aiosignal>=1.1.2 in /home/shinkenuu/.cache/pypoetry/virtualenvs/plantai-SHcKJi2O-py3.10/lib/python3.10/site-packages (from aiohttp<4.0.0,>=3.8.3->langchain) (1.3.1)\n",
            "Requirement already satisfied: marshmallow<4.0.0,>=3.18.0 in /home/shinkenuu/.cache/pypoetry/virtualenvs/plantai-SHcKJi2O-py3.10/lib/python3.10/site-packages (from dataclasses-json<0.7,>=0.5.7->langchain) (3.20.2)\n",
            "Requirement already satisfied: typing-inspect<1,>=0.4.0 in /home/shinkenuu/.cache/pypoetry/virtualenvs/plantai-SHcKJi2O-py3.10/lib/python3.10/site-packages (from dataclasses-json<0.7,>=0.5.7->langchain) (0.9.0)\n",
            "Requirement already satisfied: jsonpointer>=1.9 in /home/shinkenuu/.cache/pypoetry/virtualenvs/plantai-SHcKJi2O-py3.10/lib/python3.10/site-packages (from jsonpatch<2.0,>=1.33->langchain) (2.4)\n",
            "Requirement already satisfied: anyio<5,>=3 in /home/shinkenuu/.cache/pypoetry/virtualenvs/plantai-SHcKJi2O-py3.10/lib/python3.10/site-packages (from langchain-core<0.2,>=0.1.16->langchain) (3.7.1)\n",
            "Requirement already satisfied: packaging<24.0,>=23.2 in /home/shinkenuu/.cache/pypoetry/virtualenvs/plantai-SHcKJi2O-py3.10/lib/python3.10/site-packages (from langchain-core<0.2,>=0.1.16->langchain) (23.2)\n",
            "Requirement already satisfied: distro<2,>=1.7.0 in /home/shinkenuu/.cache/pypoetry/virtualenvs/plantai-SHcKJi2O-py3.10/lib/python3.10/site-packages (from openai<2.0.0,>=1.10.0->langchain_openai) (1.9.0)\n",
            "Requirement already satisfied: httpx<1,>=0.23.0 in /home/shinkenuu/.cache/pypoetry/virtualenvs/plantai-SHcKJi2O-py3.10/lib/python3.10/site-packages (from openai<2.0.0,>=1.10.0->langchain_openai) (0.24.1)\n",
            "Requirement already satisfied: sniffio in /home/shinkenuu/.cache/pypoetry/virtualenvs/plantai-SHcKJi2O-py3.10/lib/python3.10/site-packages (from openai<2.0.0,>=1.10.0->langchain_openai) (1.3.0)\n",
            "Requirement already satisfied: tqdm>4 in /home/shinkenuu/.cache/pypoetry/virtualenvs/plantai-SHcKJi2O-py3.10/lib/python3.10/site-packages (from openai<2.0.0,>=1.10.0->langchain_openai) (4.66.1)\n",
            "Requirement already satisfied: typing-extensions<5,>=4.7 in /home/shinkenuu/.cache/pypoetry/virtualenvs/plantai-SHcKJi2O-py3.10/lib/python3.10/site-packages (from openai<2.0.0,>=1.10.0->langchain_openai) (4.9.0)\n",
            "Requirement already satisfied: annotated-types>=0.4.0 in /home/shinkenuu/.cache/pypoetry/virtualenvs/plantai-SHcKJi2O-py3.10/lib/python3.10/site-packages (from pydantic<3,>=1->langchain) (0.6.0)\n",
            "Requirement already satisfied: pydantic-core==2.14.6 in /home/shinkenuu/.cache/pypoetry/virtualenvs/plantai-SHcKJi2O-py3.10/lib/python3.10/site-packages (from pydantic<3,>=1->langchain) (2.14.6)\n",
            "Requirement already satisfied: charset-normalizer<4,>=2 in /home/shinkenuu/.cache/pypoetry/virtualenvs/plantai-SHcKJi2O-py3.10/lib/python3.10/site-packages (from requests<3,>=2->langchain) (3.3.2)\n",
            "Requirement already satisfied: idna<4,>=2.5 in /home/shinkenuu/.cache/pypoetry/virtualenvs/plantai-SHcKJi2O-py3.10/lib/python3.10/site-packages (from requests<3,>=2->langchain) (3.6)\n",
            "Requirement already satisfied: urllib3<3,>=1.21.1 in /home/shinkenuu/.cache/pypoetry/virtualenvs/plantai-SHcKJi2O-py3.10/lib/python3.10/site-packages (from requests<3,>=2->langchain) (1.26.18)\n",
            "Requirement already satisfied: certifi>=2017.4.17 in /home/shinkenuu/.cache/pypoetry/virtualenvs/plantai-SHcKJi2O-py3.10/lib/python3.10/site-packages (from requests<3,>=2->langchain) (2023.11.17)\n",
            "Requirement already satisfied: greenlet!=0.4.17 in /home/shinkenuu/.cache/pypoetry/virtualenvs/plantai-SHcKJi2O-py3.10/lib/python3.10/site-packages (from SQLAlchemy<3,>=1.4->langchain) (3.0.3)\n",
            "Requirement already satisfied: regex>=2022.1.18 in /home/shinkenuu/.cache/pypoetry/virtualenvs/plantai-SHcKJi2O-py3.10/lib/python3.10/site-packages (from tiktoken<0.6.0,>=0.5.2->langchain_openai) (2023.12.25)\n",
            "Collecting urllib3<3,>=1.21.1 (from requests<3,>=2->langchain)\n",
            "  Obtaining dependency information for urllib3<3,>=1.21.1 from https://files.pythonhosted.org/packages/96/94/c31f58c7a7f470d5665935262ebd7455c7e4c7782eb525658d3dbf4b9403/urllib3-2.1.0-py3-none-any.whl.metadata\n",
            "  Using cached urllib3-2.1.0-py3-none-any.whl.metadata (6.4 kB)\n",
            "Requirement already satisfied: exceptiongroup in /home/shinkenuu/.cache/pypoetry/virtualenvs/plantai-SHcKJi2O-py3.10/lib/python3.10/site-packages (from anyio<5,>=3->langchain-core<0.2,>=0.1.16->langchain) (1.2.0)\n",
            "Requirement already satisfied: httpcore<0.18.0,>=0.15.0 in /home/shinkenuu/.cache/pypoetry/virtualenvs/plantai-SHcKJi2O-py3.10/lib/python3.10/site-packages (from httpx<1,>=0.23.0->openai<2.0.0,>=1.10.0->langchain_openai) (0.17.3)\n",
            "Requirement already satisfied: mypy-extensions>=0.3.0 in /home/shinkenuu/.cache/pypoetry/virtualenvs/plantai-SHcKJi2O-py3.10/lib/python3.10/site-packages (from typing-inspect<1,>=0.4.0->dataclasses-json<0.7,>=0.5.7->langchain) (1.0.0)\n",
            "Requirement already satisfied: h11<0.15,>=0.13 in /home/shinkenuu/.cache/pypoetry/virtualenvs/plantai-SHcKJi2O-py3.10/lib/python3.10/site-packages (from httpcore<0.18.0,>=0.15.0->httpx<1,>=0.23.0->openai<2.0.0,>=1.10.0->langchain_openai) (0.14.0)\n",
            "Using cached urllib3-2.1.0-py3-none-any.whl (104 kB)\n",
            "Installing collected packages: urllib3\n",
            "  Attempting uninstall: urllib3\n",
            "    Found existing installation: urllib3 1.26.18\n",
            "    Uninstalling urllib3-1.26.18:\n",
            "      Successfully uninstalled urllib3-1.26.18\n",
            "\u001b[31mERROR: pip's dependency resolver does not currently take into account all the packages that are installed. This behaviour is the source of the following dependency conflicts.\n",
            "polygon-api-client 1.13.4 requires urllib3<2.0.0,>=1.26.9, but you have urllib3 2.1.0 which is incompatible.\u001b[0m\u001b[31m\n",
            "\u001b[0mSuccessfully installed urllib3-2.1.0\n",
            "\n",
            "\u001b[1m[\u001b[0m\u001b[34;49mnotice\u001b[0m\u001b[1;39;49m]\u001b[0m\u001b[39;49m A new release of pip is available: \u001b[0m\u001b[31;49m23.2.1\u001b[0m\u001b[39;49m -> \u001b[0m\u001b[32;49m23.3.2\u001b[0m\n",
            "\u001b[1m[\u001b[0m\u001b[34;49mnotice\u001b[0m\u001b[1;39;49m]\u001b[0m\u001b[39;49m To update, run: \u001b[0m\u001b[32;49mpip install --upgrade pip\u001b[0m\n"
          ]
        }
      ],
      "source": [
        "!pip install langgraph\n",
        "!pip install -U langchain langchain_openai langchainhub"
      ]
    },
    {
      "cell_type": "code",
      "execution_count": 2,
      "metadata": {
        "id": "aw9453mxY2GZ"
      },
      "outputs": [],
      "source": [
        "import os\n",
        "\n",
        "# Set your OpenAI API key\n",
        "os.environ[\"OPENAI_API_KEY\"] = os.environ.get('OPENAI_API_KEY', '')"
      ]
    },
    {
      "cell_type": "markdown",
      "metadata": {
        "id": "kLb5xTf399gT"
      },
      "source": [
        "## Step 1 - Define the tools that our agent will use"
      ]
    },
    {
      "cell_type": "code",
      "execution_count": 3,
      "metadata": {
        "id": "IZm-G5ZvbHS4"
      },
      "outputs": [],
      "source": [
        "from langchain.tools import tool\n",
        "from agents.plant import Plant\n",
        "from langchain.schema import HumanMessage, SystemMessage\n",
        "\n",
        "@tool\n",
        "def feel(plant: Plant = None) -> str:\n",
        "    \"\"\"\n",
        "    How your sensors are responding\n",
        "    \"\"\"\n",
        "    plant = plant or Plant()\n",
        "    return plant.feeling"
      ]
    },
    {
      "cell_type": "markdown",
      "metadata": {
        "id": "pSqKl9AT-DGL"
      },
      "source": [
        "## Step 2 - Create the LLM"
      ]
    },
    {
      "cell_type": "code",
      "execution_count": 4,
      "metadata": {
        "id": "mczr2sUEVdYv"
      },
      "outputs": [
        {
          "ename": "ImportError",
          "evalue": "Could not import vllm python package. Please install it with `pip install vllm`.",
          "output_type": "error",
          "traceback": [
            "\u001b[0;31m---------------------------------------------------------------------------\u001b[0m",
            "\u001b[0;31mModuleNotFoundError\u001b[0m                       Traceback (most recent call last)",
            "File \u001b[0;32m~/.cache/pypoetry/virtualenvs/plantai-SHcKJi2O-py3.10/lib/python3.10/site-packages/langchain_community/llms/vllm.py:81\u001b[0m, in \u001b[0;36mVLLM.validate_environment\u001b[0;34m(cls, values)\u001b[0m\n\u001b[1;32m     80\u001b[0m \u001b[38;5;28;01mtry\u001b[39;00m:\n\u001b[0;32m---> 81\u001b[0m     \u001b[38;5;28;01mfrom\u001b[39;00m \u001b[38;5;21;01mvllm\u001b[39;00m \u001b[38;5;28;01mimport\u001b[39;00m LLM \u001b[38;5;28;01mas\u001b[39;00m VLLModel\n\u001b[1;32m     82\u001b[0m \u001b[38;5;28;01mexcept\u001b[39;00m \u001b[38;5;167;01mImportError\u001b[39;00m:\n",
            "\u001b[0;31mModuleNotFoundError\u001b[0m: No module named 'vllm'",
            "\nDuring handling of the above exception, another exception occurred:\n",
            "\u001b[0;31mImportError\u001b[0m                               Traceback (most recent call last)",
            "Cell \u001b[0;32mIn[4], line 12\u001b[0m\n\u001b[1;32m      9\u001b[0m prompt \u001b[38;5;241m=\u001b[39m hub\u001b[38;5;241m.\u001b[39mpull(\u001b[38;5;124m\"\u001b[39m\u001b[38;5;124mhwchase17/openai-functions-agent\u001b[39m\u001b[38;5;124m\"\u001b[39m)\n\u001b[1;32m     11\u001b[0m \u001b[38;5;66;03m# Choose the LLM that will drive the agent\u001b[39;00m\n\u001b[0;32m---> 12\u001b[0m llm \u001b[38;5;241m=\u001b[39m \u001b[43mVLLM\u001b[49m\u001b[43m(\u001b[49m\n\u001b[1;32m     13\u001b[0m \u001b[43m    \u001b[49m\u001b[43mmodel\u001b[49m\u001b[38;5;241;43m=\u001b[39;49m\u001b[38;5;124;43m\"\u001b[39;49m\u001b[38;5;124;43mshadowml/Daredevil-7B\u001b[39;49m\u001b[38;5;124;43m\"\u001b[39;49m\u001b[43m,\u001b[49m\n\u001b[1;32m     14\u001b[0m \u001b[43m    \u001b[49m\u001b[43mtrust_remote_code\u001b[49m\u001b[38;5;241;43m=\u001b[39;49m\u001b[38;5;28;43;01mTrue\u001b[39;49;00m\u001b[43m,\u001b[49m\u001b[43m  \u001b[49m\u001b[38;5;66;43;03m# mandatory for hf models\u001b[39;49;00m\n\u001b[1;32m     15\u001b[0m \u001b[43m    \u001b[49m\u001b[43mmax_new_tokens\u001b[49m\u001b[38;5;241;43m=\u001b[39;49m\u001b[38;5;241;43m128\u001b[39;49m\u001b[43m,\u001b[49m\n\u001b[1;32m     16\u001b[0m \u001b[43m    \u001b[49m\u001b[43mtop_k\u001b[49m\u001b[38;5;241;43m=\u001b[39;49m\u001b[38;5;241;43m10\u001b[39;49m\u001b[43m,\u001b[49m\n\u001b[1;32m     17\u001b[0m \u001b[43m    \u001b[49m\u001b[43mtop_p\u001b[49m\u001b[38;5;241;43m=\u001b[39;49m\u001b[38;5;241;43m0.95\u001b[39;49m\u001b[43m,\u001b[49m\n\u001b[1;32m     18\u001b[0m \u001b[43m    \u001b[49m\u001b[43mtemperature\u001b[49m\u001b[38;5;241;43m=\u001b[39;49m\u001b[38;5;241;43m0.8\u001b[39;49m\u001b[43m,\u001b[49m\n\u001b[1;32m     19\u001b[0m \u001b[43m)\u001b[49m\n\u001b[1;32m     21\u001b[0m \u001b[38;5;66;03m# Construct the OpenAI Functions agent\u001b[39;00m\n\u001b[1;32m     22\u001b[0m agent_runnable \u001b[38;5;241m=\u001b[39m create_openai_functions_agent(llm, tools, prompt)\n",
            "File \u001b[0;32m~/.cache/pypoetry/virtualenvs/plantai-SHcKJi2O-py3.10/lib/python3.10/site-packages/langchain_core/load/serializable.py:107\u001b[0m, in \u001b[0;36mSerializable.__init__\u001b[0;34m(self, **kwargs)\u001b[0m\n\u001b[1;32m    106\u001b[0m \u001b[38;5;28;01mdef\u001b[39;00m \u001b[38;5;21m__init__\u001b[39m(\u001b[38;5;28mself\u001b[39m, \u001b[38;5;241m*\u001b[39m\u001b[38;5;241m*\u001b[39mkwargs: Any) \u001b[38;5;241m-\u001b[39m\u001b[38;5;241m>\u001b[39m \u001b[38;5;28;01mNone\u001b[39;00m:\n\u001b[0;32m--> 107\u001b[0m     \u001b[38;5;28;43msuper\u001b[39;49m\u001b[43m(\u001b[49m\u001b[43m)\u001b[49m\u001b[38;5;241;43m.\u001b[39;49m\u001b[38;5;21;43m__init__\u001b[39;49m\u001b[43m(\u001b[49m\u001b[38;5;241;43m*\u001b[39;49m\u001b[38;5;241;43m*\u001b[39;49m\u001b[43mkwargs\u001b[49m\u001b[43m)\u001b[49m\n\u001b[1;32m    108\u001b[0m     \u001b[38;5;28mself\u001b[39m\u001b[38;5;241m.\u001b[39m_lc_kwargs \u001b[38;5;241m=\u001b[39m kwargs\n",
            "File \u001b[0;32m~/.cache/pypoetry/virtualenvs/plantai-SHcKJi2O-py3.10/lib/python3.10/site-packages/pydantic/v1/main.py:339\u001b[0m, in \u001b[0;36mBaseModel.__init__\u001b[0;34m(__pydantic_self__, **data)\u001b[0m\n\u001b[1;32m    333\u001b[0m \u001b[38;5;250m\u001b[39m\u001b[38;5;124;03m\"\"\"\u001b[39;00m\n\u001b[1;32m    334\u001b[0m \u001b[38;5;124;03mCreate a new model by parsing and validating input data from keyword arguments.\u001b[39;00m\n\u001b[1;32m    335\u001b[0m \n\u001b[1;32m    336\u001b[0m \u001b[38;5;124;03mRaises ValidationError if the input data cannot be parsed to form a valid model.\u001b[39;00m\n\u001b[1;32m    337\u001b[0m \u001b[38;5;124;03m\"\"\"\u001b[39;00m\n\u001b[1;32m    338\u001b[0m \u001b[38;5;66;03m# Uses something other than `self` the first arg to allow \"self\" as a settable attribute\u001b[39;00m\n\u001b[0;32m--> 339\u001b[0m values, fields_set, validation_error \u001b[38;5;241m=\u001b[39m \u001b[43mvalidate_model\u001b[49m\u001b[43m(\u001b[49m\u001b[43m__pydantic_self__\u001b[49m\u001b[38;5;241;43m.\u001b[39;49m\u001b[38;5;18;43m__class__\u001b[39;49m\u001b[43m,\u001b[49m\u001b[43m \u001b[49m\u001b[43mdata\u001b[49m\u001b[43m)\u001b[49m\n\u001b[1;32m    340\u001b[0m \u001b[38;5;28;01mif\u001b[39;00m validation_error:\n\u001b[1;32m    341\u001b[0m     \u001b[38;5;28;01mraise\u001b[39;00m validation_error\n",
            "File \u001b[0;32m~/.cache/pypoetry/virtualenvs/plantai-SHcKJi2O-py3.10/lib/python3.10/site-packages/pydantic/v1/main.py:1102\u001b[0m, in \u001b[0;36mvalidate_model\u001b[0;34m(model, input_data, cls)\u001b[0m\n\u001b[1;32m   1100\u001b[0m     \u001b[38;5;28;01mcontinue\u001b[39;00m\n\u001b[1;32m   1101\u001b[0m \u001b[38;5;28;01mtry\u001b[39;00m:\n\u001b[0;32m-> 1102\u001b[0m     values \u001b[38;5;241m=\u001b[39m \u001b[43mvalidator\u001b[49m\u001b[43m(\u001b[49m\u001b[43mcls_\u001b[49m\u001b[43m,\u001b[49m\u001b[43m \u001b[49m\u001b[43mvalues\u001b[49m\u001b[43m)\u001b[49m\n\u001b[1;32m   1103\u001b[0m \u001b[38;5;28;01mexcept\u001b[39;00m (\u001b[38;5;167;01mValueError\u001b[39;00m, \u001b[38;5;167;01mTypeError\u001b[39;00m, \u001b[38;5;167;01mAssertionError\u001b[39;00m) \u001b[38;5;28;01mas\u001b[39;00m exc:\n\u001b[1;32m   1104\u001b[0m     errors\u001b[38;5;241m.\u001b[39mappend(ErrorWrapper(exc, loc\u001b[38;5;241m=\u001b[39mROOT_KEY))\n",
            "File \u001b[0;32m~/.cache/pypoetry/virtualenvs/plantai-SHcKJi2O-py3.10/lib/python3.10/site-packages/langchain_community/llms/vllm.py:83\u001b[0m, in \u001b[0;36mVLLM.validate_environment\u001b[0;34m(cls, values)\u001b[0m\n\u001b[1;32m     81\u001b[0m     \u001b[38;5;28;01mfrom\u001b[39;00m \u001b[38;5;21;01mvllm\u001b[39;00m \u001b[38;5;28;01mimport\u001b[39;00m LLM \u001b[38;5;28;01mas\u001b[39;00m VLLModel\n\u001b[1;32m     82\u001b[0m \u001b[38;5;28;01mexcept\u001b[39;00m \u001b[38;5;167;01mImportError\u001b[39;00m:\n\u001b[0;32m---> 83\u001b[0m     \u001b[38;5;28;01mraise\u001b[39;00m \u001b[38;5;167;01mImportError\u001b[39;00m(\n\u001b[1;32m     84\u001b[0m         \u001b[38;5;124m\"\u001b[39m\u001b[38;5;124mCould not import vllm python package. \u001b[39m\u001b[38;5;124m\"\u001b[39m\n\u001b[1;32m     85\u001b[0m         \u001b[38;5;124m\"\u001b[39m\u001b[38;5;124mPlease install it with `pip install vllm`.\u001b[39m\u001b[38;5;124m\"\u001b[39m\n\u001b[1;32m     86\u001b[0m     )\n\u001b[1;32m     88\u001b[0m values[\u001b[38;5;124m\"\u001b[39m\u001b[38;5;124mclient\u001b[39m\u001b[38;5;124m\"\u001b[39m] \u001b[38;5;241m=\u001b[39m VLLModel(\n\u001b[1;32m     89\u001b[0m     model\u001b[38;5;241m=\u001b[39mvalues[\u001b[38;5;124m\"\u001b[39m\u001b[38;5;124mmodel\u001b[39m\u001b[38;5;124m\"\u001b[39m],\n\u001b[1;32m     90\u001b[0m     tensor_parallel_size\u001b[38;5;241m=\u001b[39mvalues[\u001b[38;5;124m\"\u001b[39m\u001b[38;5;124mtensor_parallel_size\u001b[39m\u001b[38;5;124m\"\u001b[39m],\n\u001b[0;32m   (...)\u001b[0m\n\u001b[1;32m     94\u001b[0m     \u001b[38;5;241m*\u001b[39m\u001b[38;5;241m*\u001b[39mvalues[\u001b[38;5;124m\"\u001b[39m\u001b[38;5;124mvllm_kwargs\u001b[39m\u001b[38;5;124m\"\u001b[39m],\n\u001b[1;32m     95\u001b[0m )\n\u001b[1;32m     97\u001b[0m \u001b[38;5;28;01mreturn\u001b[39;00m values\n",
            "\u001b[0;31mImportError\u001b[0m: Could not import vllm python package. Please install it with `pip install vllm`."
          ]
        }
      ],
      "source": [
        "from langchain import hub\n",
        "from langchain.agents import create_openai_functions_agent\n",
        "from langchain_community.llms import OpenLLM\n",
        "\n",
        "\n",
        "tools = [feel]\n",
        "\n",
        "# Get the prompt to use - you can modify this!\n",
        "prompt = hub.pull(\"hwchase17/openai-functions-agent\")\n",
        "\n",
        "# Choose the LLM that will drive the agent\n",
        "llm = VLLM(\n",
        "    model=\"shadowml/Daredevil-7B\",\n",
        "    trust_remote_code=True,  # mandatory for hf models\n",
        "    max_new_tokens=128,\n",
        "    top_k=10,\n",
        "    top_p=0.95,\n",
        "    temperature=0.8,\n",
        ")\n",
        "\n",
        "# Construct the OpenAI Functions agent\n",
        "agent_runnable = create_openai_functions_agent(llm, tools, prompt)"
      ]
    },
    {
      "cell_type": "markdown",
      "metadata": {
        "id": "AlTt85lW-GIY"
      },
      "source": [
        "## Step 3 - Define the agent and related functions"
      ]
    },
    {
      "cell_type": "code",
      "execution_count": null,
      "metadata": {
        "id": "nTW70qJEV6-A"
      },
      "outputs": [],
      "source": [
        "from langchain_core.runnables import RunnablePassthrough\n",
        "from langchain_core.agents import AgentFinish\n",
        "\n",
        "\n",
        "# Define the agent\n",
        "agent = RunnablePassthrough.assign(\n",
        "    agent_outcome = agent_runnable\n",
        ")\n",
        "\n",
        "# Define the function to execute tools\n",
        "def execute_tools(data):\n",
        "    agent_action = data.pop('agent_outcome')\n",
        "    tool_to_use = {t.name: t for t in tools}[agent_action.tool]\n",
        "    observation = tool_to_use.invoke(agent_action.tool_input)\n",
        "    data['intermediate_steps'].append((agent_action, observation))\n",
        "    return data\n",
        "\n",
        "# Define logic that will be used to determine which conditional edge to go down\n",
        "def should_continue(data):\n",
        "    if isinstance(data['agent_outcome'], AgentFinish):\n",
        "        return \"exit\"\n",
        "    else:\n",
        "        return \"continue\""
      ]
    },
    {
      "cell_type": "markdown",
      "metadata": {
        "id": "RewrdOZf-J0S"
      },
      "source": [
        "## Step 4 - Define and compile the agent graph"
      ]
    },
    {
      "cell_type": "code",
      "execution_count": null,
      "metadata": {
        "id": "xK5euZ6UWAhq"
      },
      "outputs": [],
      "source": [
        "from langgraph.graph import END, Graph\n",
        "\n",
        "workflow = Graph()\n",
        "\n",
        "workflow.add_node(\"agent\", agent)\n",
        "workflow.add_node(\"tools\", execute_tools)\n",
        "\n",
        "# Set the entrypoint as `agent`\n",
        "workflow.set_entry_point(\"agent\")\n",
        "\n",
        "# Add the edges of our agent graph\n",
        "workflow.add_conditional_edges(\n",
        "    \"agent\",\n",
        "    should_continue,\n",
        "    {\n",
        "        \"continue\": \"tools\",\n",
        "        \"exit\": END\n",
        "    }\n",
        ")\n",
        "workflow.add_edge('tools', 'agent')\n",
        "\n",
        "\n",
        "# Compile the graph into a LangChain Runnable\n",
        "chain = workflow.compile()"
      ]
    },
    {
      "cell_type": "markdown",
      "metadata": {
        "id": "MZRaj7rW-NDk"
      },
      "source": [
        "## Step 5 - Query our agent for the latest stock price!"
      ]
    },
    {
      "cell_type": "code",
      "execution_count": null,
      "metadata": {
        "colab": {
          "base_uri": "https://localhost:8080/"
        },
        "id": "kBwr25yAWDVB",
        "outputId": "a52b20a2-ab2b-4aca-88bb-a1d0a323332f"
      },
      "outputs": [],
      "source": [
        "result = chain.invoke({\"input\": \"What did you had for lunch today?\", \"intermediate_steps\": []})\n",
        "output = result['agent_outcome'].return_values[\"output\"]\n",
        "print(output)"
      ]
    },
    {
      "cell_type": "code",
      "execution_count": null,
      "metadata": {
        "id": "7XeJKNsn9YWG"
      },
      "outputs": [],
      "source": []
    }
  ],
  "metadata": {
    "colab": {
      "authorship_tag": "ABX9TyModMkmR0AEpUcTyc4HIFN0",
      "include_colab_link": true,
      "provenance": []
    },
    "kernelspec": {
      "display_name": "Python 3",
      "name": "python3"
    },
    "language_info": {
      "codemirror_mode": {
        "name": "ipython",
        "version": 3
      },
      "file_extension": ".py",
      "mimetype": "text/x-python",
      "name": "python",
      "nbconvert_exporter": "python",
      "pygments_lexer": "ipython3",
      "version": "3.10.9"
    }
  },
  "nbformat": 4,
  "nbformat_minor": 0
}
